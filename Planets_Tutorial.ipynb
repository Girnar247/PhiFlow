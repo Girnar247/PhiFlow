{
 "cells": [
  {
   "cell_type": "markdown",
   "metadata": {
    "pycharm": {
     "name": "#%% md\n"
    }
   },
   "source": [
    "# Solar System\n",
    "\n",
    "[![Google Collab Book](https://colab.research.google.com/assets/colab-badge.svg)](https://colab.research.google.com/github/tum-pbs/PhiFlow/blob/develop/docs/Planets_Tutorial.ipynb)\n",
    "\n",
    "\n",
    "This demo simulates the gravitational pull between multiple massive bodies.\n",
    "We will use Euler steps in time which do not preserve energy.\n",
    "\n",
    "[**Φ-Flow**](https://github.com/tum-pbs/PhiFlow)\n",
    "&nbsp;&nbsp;&nbsp; [**Documentation**](https://tum-pbs.github.io/PhiFlow/)\n",
    "&nbsp;&nbsp;&nbsp; [**API**](https://tum-pbs.github.io/PhiFlow/phi)\n",
    "&nbsp;&nbsp;&nbsp; [**Demos**](https://github.com/tum-pbs/PhiFlow/tree/develop/demos)"
   ]
  },
  {
   "cell_type": "code",
   "execution_count": null,
   "metadata": {
    "pycharm": {
     "name": "#%%\n"
    }
   },
   "outputs": [],
   "source": [
    "# !pip install phiflow"
   ]
  },
  {
   "cell_type": "markdown",
   "metadata": {
    "pycharm": {
     "name": "#%% md\n"
    }
   },
   "source": [
    "We use the convenience import of Φ<sub>Flow</sub> which imports the core submodules, such as `math` and `vis`."
   ]
  },
  {
   "cell_type": "code",
   "execution_count": 1,
   "metadata": {
    "pycharm": {
     "name": "#%%\n"
    }
   },
   "outputs": [],
   "source": [
    "from phi.flow import *"
   ]
  },
  {
   "cell_type": "markdown",
   "metadata": {
    "pycharm": {
     "name": "#%% md\n"
    }
   },
   "source": [
    "Let's define the initial positions for our planets.\n",
    "We stack the position vectors of the planets a long a new [*instance*](https://tum-pbs.github.io/PhiFlow/Math.html#shapes) dimension we call *planets*.\n",
    "Φ<sub>Flow</sub> also allows us to name the individual elements along that dimension. These names are part of the shape and will be present on all tensors derived from `x` that have this dimension."
   ]
  },
  {
   "cell_type": "code",
   "execution_count": 3,
   "metadata": {
    "pycharm": {
     "name": "#%%\n"
    }
   },
   "outputs": [
    {
     "ename": "ValueError",
     "evalue": "shape() requires Shaped or Shape argument but got (10, 0)",
     "output_type": "error",
     "traceback": [
      "\u001B[1;31m---------------------------------------------------------------------------\u001B[0m",
      "\u001B[1;31mValueError\u001B[0m                                Traceback (most recent call last)",
      "\u001B[1;32m<ipython-input-3-45d270b3c11e>\u001B[0m in \u001B[0;36m<module>\u001B[1;34m\u001B[0m\n\u001B[1;32m----> 1\u001B[1;33m \u001B[0mx\u001B[0m \u001B[1;33m=\u001B[0m \u001B[0mmath\u001B[0m\u001B[1;33m.\u001B[0m\u001B[0mstack\u001B[0m\u001B[1;33m(\u001B[0m\u001B[1;33m{\u001B[0m\u001B[1;34m'Sun'\u001B[0m\u001B[1;33m:\u001B[0m \u001B[1;33m(\u001B[0m\u001B[1;36m0\u001B[0m\u001B[1;33m,\u001B[0m \u001B[1;36m0\u001B[0m\u001B[1;33m)\u001B[0m\u001B[1;33m,\u001B[0m \u001B[1;34m'Earth'\u001B[0m\u001B[1;33m:\u001B[0m \u001B[1;33m(\u001B[0m\u001B[1;36m10\u001B[0m\u001B[1;33m,\u001B[0m \u001B[1;36m0\u001B[0m\u001B[1;33m)\u001B[0m\u001B[1;33m,\u001B[0m \u001B[1;34m'Mars'\u001B[0m\u001B[1;33m:\u001B[0m \u001B[1;33m(\u001B[0m\u001B[1;36m0\u001B[0m\u001B[1;33m,\u001B[0m \u001B[1;36m12\u001B[0m\u001B[1;33m)\u001B[0m\u001B[1;33m}\u001B[0m\u001B[1;33m,\u001B[0m \u001B[0minstance\u001B[0m\u001B[1;33m(\u001B[0m\u001B[1;34m'planets'\u001B[0m\u001B[1;33m)\u001B[0m\u001B[1;33m)\u001B[0m\u001B[1;33m\u001B[0m\u001B[1;33m\u001B[0m\u001B[0m\n\u001B[0m\u001B[0;32m      2\u001B[0m \u001B[0mx\u001B[0m\u001B[1;33m\u001B[0m\u001B[1;33m\u001B[0m\u001B[0m\n",
      "\u001B[1;32mC:\\PhD\\phiflow2\\phi\\math\\_magic_ops.py\u001B[0m in \u001B[0;36mstack\u001B[1;34m(values, dim, **kwargs)\u001B[0m\n\u001B[0;32m     74\u001B[0m             \u001B[0mdim\u001B[0m \u001B[1;33m=\u001B[0m \u001B[0mdim\u001B[0m\u001B[1;33m.\u001B[0m\u001B[0m_with_item_names\u001B[0m\u001B[1;33m(\u001B[0m\u001B[1;33m(\u001B[0m\u001B[0mdim_item_names\u001B[0m\u001B[1;33m,\u001B[0m\u001B[1;33m)\u001B[0m\u001B[1;33m)\u001B[0m\u001B[1;33m\u001B[0m\u001B[1;33m\u001B[0m\u001B[0m\n\u001B[0;32m     75\u001B[0m         \u001B[1;32mfor\u001B[0m \u001B[0mv\u001B[0m \u001B[1;32min\u001B[0m \u001B[0mvalues\u001B[0m\u001B[1;33m[\u001B[0m\u001B[1;36m1\u001B[0m\u001B[1;33m:\u001B[0m\u001B[1;33m]\u001B[0m\u001B[1;33m:\u001B[0m\u001B[1;33m\u001B[0m\u001B[1;33m\u001B[0m\u001B[0m\n\u001B[1;32m---> 76\u001B[1;33m             \u001B[1;32massert\u001B[0m \u001B[0mset\u001B[0m\u001B[1;33m(\u001B[0m\u001B[0mshape\u001B[0m\u001B[1;33m(\u001B[0m\u001B[0mv\u001B[0m\u001B[1;33m)\u001B[0m\u001B[1;33m.\u001B[0m\u001B[0mnames\u001B[0m\u001B[1;33m)\u001B[0m \u001B[1;33m==\u001B[0m \u001B[0mset\u001B[0m\u001B[1;33m(\u001B[0m\u001B[0mshape\u001B[0m\u001B[1;33m(\u001B[0m\u001B[0mvalues\u001B[0m\u001B[1;33m[\u001B[0m\u001B[1;36m0\u001B[0m\u001B[1;33m]\u001B[0m\u001B[1;33m)\u001B[0m\u001B[1;33m.\u001B[0m\u001B[0mnames\u001B[0m\u001B[1;33m)\u001B[0m\u001B[1;33m,\u001B[0m \u001B[1;34mf\"Stacked values must have the same dimensions but got {shape(values[0])} and {shape(v)}\"\u001B[0m\u001B[1;33m\u001B[0m\u001B[1;33m\u001B[0m\u001B[0m\n\u001B[0m\u001B[0;32m     77\u001B[0m         \u001B[1;31m# if any value implements Shapable, use their implementation\u001B[0m\u001B[1;33m\u001B[0m\u001B[1;33m\u001B[0m\u001B[1;33m\u001B[0m\u001B[0m\n\u001B[0;32m     78\u001B[0m         \u001B[1;32mfor\u001B[0m \u001B[0mv\u001B[0m \u001B[1;32min\u001B[0m \u001B[0mvalues\u001B[0m\u001B[1;33m:\u001B[0m\u001B[1;33m\u001B[0m\u001B[1;33m\u001B[0m\u001B[0m\n",
      "\u001B[1;32mC:\\PhD\\phiflow2\\phi\\math\\_shape.py\u001B[0m in \u001B[0;36mshape\u001B[1;34m(obj)\u001B[0m\n\u001B[0;32m   1115\u001B[0m         \u001B[1;32mreturn\u001B[0m \u001B[0mEMPTY_SHAPE\u001B[0m\u001B[1;33m\u001B[0m\u001B[1;33m\u001B[0m\u001B[0m\n\u001B[0;32m   1116\u001B[0m     \u001B[1;32melif\u001B[0m \u001B[0misinstance\u001B[0m\u001B[1;33m(\u001B[0m\u001B[0mobj\u001B[0m\u001B[1;33m,\u001B[0m \u001B[1;33m(\u001B[0m\u001B[0mtuple\u001B[0m\u001B[1;33m,\u001B[0m \u001B[0mlist\u001B[0m\u001B[1;33m)\u001B[0m\u001B[1;33m)\u001B[0m\u001B[1;33m:\u001B[0m\u001B[1;33m\u001B[0m\u001B[1;33m\u001B[0m\u001B[0m\n\u001B[1;32m-> 1117\u001B[1;33m         \u001B[1;32mreturn\u001B[0m \u001B[0mchannel\u001B[0m\u001B[1;33m(\u001B[0m\u001B[1;34m'vector'\u001B[0m\u001B[1;33m)\u001B[0m\u001B[1;33m\u001B[0m\u001B[1;33m\u001B[0m\u001B[0m\n\u001B[0m\u001B[0;32m   1118\u001B[0m     \u001B[1;32melse\u001B[0m\u001B[1;33m:\u001B[0m\u001B[1;33m\u001B[0m\u001B[1;33m\u001B[0m\u001B[0m\n\u001B[0;32m   1119\u001B[0m         \u001B[1;32mraise\u001B[0m \u001B[0mValueError\u001B[0m\u001B[1;33m(\u001B[0m\u001B[1;34mf'shape() requires Shaped or Shape argument but got {obj}'\u001B[0m\u001B[1;33m)\u001B[0m\u001B[1;33m\u001B[0m\u001B[1;33m\u001B[0m\u001B[0m\n",
      "\u001B[1;31mValueError\u001B[0m: shape() requires Shaped or Shape argument but got (10, 0)"
     ]
    }
   ],
   "source": [
    "x = math.stack({'Sun': (0, 0), 'Earth': (10, 0), 'Mars': (0, 12)}, instance('planets'))\n",
    "x"
   ]
  },
  {
   "cell_type": "markdown",
   "metadata": {
    "pycharm": {
     "name": "#%% md\n"
    }
   },
   "source": [
    "We can plot these positions by constructing a `PointCloud`, using the `bounds` parameter to specify the axis range. Since the universe we are simulating is infinite, the `bounds` have no physical meaning in this case."
   ]
  },
  {
   "cell_type": "code",
   "execution_count": 45,
   "metadata": {
    "pycharm": {
     "name": "#%%\n"
    }
   },
   "outputs": [
    {
     "data": {
      "image/png": "[encoded data removed]",
      "text/plain": [
       "<Figure size 864x360 with 1 Axes>"
      ]
     },
     "execution_count": 45,
     "metadata": {},
     "output_type": "execute_result"
    },
    {
     "data": {
      "text/plain": [
       "<Figure size 432x288 with 0 Axes>"
      ]
     },
     "metadata": {},
     "output_type": "display_data"
    }
   ],
   "source": [
    "vis.plot(PointCloud(x, bounds=Box(x=(-2, 12), y=(-1, 13))))"
   ]
  },
  {
   "cell_type": "markdown",
   "metadata": {
    "pycharm": {
     "name": "#%% md\n"
    }
   },
   "source": [
    "Next, let's give the planets initial velocities so that they circle the sun.\n",
    "For a nice plot, we pass the vector-valued velocities as the `values` of our `PointCloud`."
   ]
  },
  {
   "cell_type": "code",
   "execution_count": 48,
   "metadata": {
    "pycharm": {
     "name": "#%%\n"
    }
   },
   "outputs": [
    {
     "data": {
      "image/png": "[encoded data removed]",
      "text/plain": [
       "<Figure size 864x360 with 1 Axes>"
      ]
     },
     "execution_count": 48,
     "metadata": {},
     "output_type": "execute_result"
    },
    {
     "data": {
      "text/plain": [
       "<Figure size 432x288 with 0 Axes>"
      ]
     },
     "metadata": {},
     "output_type": "display_data"
    }
   ],
   "source": [
    "v = math.rotate_vector(x, PI/2)\n",
    "v = math.divide_no_nan(v, math.vec_length(v))\n",
    "vis.plot(PointCloud(x, values=v, bounds=Box(x=(-2, 12), y=(-1, 13))))"
   ]
  },
  {
   "cell_type": "markdown",
   "metadata": {
    "pycharm": {
     "name": "#%% md\n"
    }
   },
   "source": [
    "Next, we define the masses of our planets which will determine the gravitational pull.\n",
    "These also allow us to make our plot prettier by passing a `Sphere` as the elements of the `PointCloud`."
   ]
  },
  {
   "cell_type": "code",
   "execution_count": 49,
   "metadata": {
    "pycharm": {
     "name": "#%%\n"
    }
   },
   "outputs": [
    {
     "data": {
      "image/png": "[encoded data removed]",
      "text/plain": [
       "<Figure size 864x360 with 1 Axes>"
      ]
     },
     "execution_count": 49,
     "metadata": {},
     "output_type": "execute_result"
    },
    {
     "data": {
      "text/plain": [
       "<Figure size 432x288 with 0 Axes>"
      ]
     },
     "metadata": {},
     "output_type": "display_data"
    }
   ],
   "source": [
    "masses = math.stack({'Sun': 1000, 'Earth': 10, 'Mars': 10}, instance('planets'))\n",
    "vis.plot(PointCloud(Sphere(x, radius=masses**0.333 * .2), bounds=Box(x=(-2, 12), y=(-1, 13))))"
   ]
  },
  {
   "cell_type": "markdown",
   "metadata": {
    "pycharm": {
     "name": "#%% md\n"
    }
   },
   "source": [
    "To Simulate our system, we define a simple update step and run it repeatedly, collecting all intermediate states in the lists `xs` and `vs`.\n",
    "\n",
    "For the pair-wise distances between our planets, we use `math.rename_dims` to rename our *planets* dimension to *others*. Our previous tensors are constant along *others*  and the renamed tensor is constant along *planets*.\n",
    "When combining tensors with different dimensions in an operation, they will be reshaped automatically."
   ]
  },
  {
   "cell_type": "code",
   "execution_count": 50,
   "metadata": {
    "pycharm": {
     "name": "#%%\n"
    }
   },
   "outputs": [
    {
     "data": {
      "text/plain": [
       "\u001B[92m(timeᵇ=101, planetsⁱ=Sun,Earth,Mars, vectorᶜ=2)\u001B[0m \u001B[93mfloat32\u001B[0m  \u001B[94m-2.464 ± 7.704\u001B[0m \u001B[37m(-2e+01...1e+01)\u001B[0m"
      ]
     },
     "execution_count": 50,
     "metadata": {},
     "output_type": "execute_result"
    }
   ],
   "source": [
    "def simulate(x, v, dt=.5):\n",
    "    dx = x - math.rename_dims(x, 'planets', 'others')\n",
    "    a = - .01 * math.sum(math.divide_no_nan(math.rename_dims(masses, 'planets', 'others') * dx, math.vec_squared(dx) ** 1.5), 'others')\n",
    "    return x + v * dt, v + a * dt\n",
    "\n",
    "xs, vs = [x], [v]\n",
    "for i in range(100):\n",
    "    x, v = simulate(x, v)\n",
    "    xs.append(x)\n",
    "    vs.append(v)"
   ]
  },
  {
   "cell_type": "markdown",
   "metadata": {
    "pycharm": {
     "name": "#%% md\n"
    }
   },
   "source": [
    "Finally, let's plot the system trajectory as an animation!\n",
    "First, we need to define a dimension which will list our animation frames."
   ]
  },
  {
   "cell_type": "code",
   "execution_count": 52,
   "metadata": {
    "pycharm": {
     "name": "#%%\n"
    }
   },
   "outputs": [
    {
     "data": {
      "text/plain": [
       "\u001B[92m(timeᵇ=606)\u001B[0m \u001B[93mfloat32\u001B[0m  \u001B[94m-2.464 ± 7.704\u001B[0m \u001B[37m(-2e+01...1e+01)\u001B[0m"
      ]
     },
     "execution_count": 52,
     "metadata": {},
     "output_type": "execute_result"
    }
   ],
   "source": [
    "xs = math.stack(xs, batch('time'))\n",
    "vs = math.stack(vs, batch('time'))\n",
    "xs"
   ]
  },
  {
   "cell_type": "markdown",
   "metadata": {
    "pycharm": {
     "name": "#%% md\n"
    }
   },
   "source": [
    "Now we can specify this dimension via the `animate` argument.\n",
    "Using `vis.overlay` additionally allows us to plot multiple fields in one figure."
   ]
  },
  {
   "cell_type": "code",
   "execution_count": 51,
   "metadata": {
    "pycharm": {
     "name": "#%%\n"
    }
   },
   "outputs": [
    {
     "data": {
      "text/html": [
       "<video width=\"864\" height=\"360\" controls autoplay loop>\n",
       "  <source type=\"video/mp4\" src=\"data:video/mp4;base64,AAAAIGZ0eXBNNFYgAAACAE00ViBpc29taXNvMmF2YzEAAAAIZnJlZQAAT8RtZGF0AAACrwYF//+r\n",
       "3EXpvebZSLeWLNgg2SPu73gyNjQgLSBjb3JlIDE2MSByMzA0OCBiODZhZTNjIC0gSC4yNjQvTVBF\n",
       "Ry00IEFWQyBjb2RlYyAtIENvcHlsZWZ0IDIwMDMtMjAyMSAtIGh0dHA6Ly93d3cudmlkZW9sYW4u\n",
       "b3JnL3gyNjQuaHRtbCAtIG9wdGlvbnM6IGNhYmFjPTEgcmVmPTMgZGVibG9jaz0xOjA6MCBhbmFs\n",
       "eXNlPTB4MzoweDExMyBtZT1oZXggc3VibWU9NyBwc3k9MSBwc3lfcmQ9MS4wMDowLjAwIG1peGVk\n",
       "X3JlZj0xIG1lX3JhbmdlPTE2IGNocm9tYV9tZT0xIHRyZWxsaXM9MSA4eDhkY3Q9MSBjcW09MCBk\n",
       "ZWFkem9uZT0yMSwxMSBmYXN0X3Bza2lwPTEgY2hyb21hX3FwX29mZnNldD0tMiB0aHJlYWRzPTEx\n",
       "IGxvb2thaGVhZF90aHJlYWRzPTEgc2xpY2VkX3RocmVhZHM9MCBucj0wIGRlY2ltYXRlPTEgaW50\n",
       "ZXJsYWNlZD0wIGJsdXJheV9jb21wYXQ9MCBjb25zdHJhaW5lZF9pbnRyYT0wIGJmcmFtZXM9MyBi\n",
       "X3B5cmFtaWQ9MiBiX2FkYXB0PTEgYl9iaWFzPTAgZGlyZWN0PTEgd2VpZ2h0Yj0xIG9wZW5fZ29w\n",
       "PTAgd2VpZ2h0cD0yIGtleWludD0yNTAga2V5aW50X21pbj0xMCBzY2VuZWN1dD00MCBpbnRyYV9y\n",
       "ZWZyZXNoPTAgcmNfbG9va2FoZWFkPTQwIHJjPWNyZiBtYnRyZWU9MSBjcmY9MjMuMCBxY29tcD0w\n",
       "LjYwIHFwbWluPTAgcXBtYXg9NjkgcXBzdGVwPTQgaXBfcmF0aW89MS40MCBhcT0xOjEuMDAAgAAA\n",
       "DWxliIQAEP/+94G/MstfIrrJcfnnfSyszzzkPHJdia640AAAAwAAAwAAAwAGIxI3/ofxeM38AAAD\n",
       "AAC3PZ4884JyCTMAV6BvqEgDeyGXaIH2pFC2c5GYjSa9wqWt2X8sl8L/xVMGeaRbssS2cDAoVuZD\n",
       "jVvYsq123/AkCn/vW/fLdNeNL4G/DqIkPPvfhSbsNqwKcf+0iwDUPU3eu+Oe2o5sd2BImYGke41S\n",
       "pu3KXvM35QvumuuhWcikFS+BHguE4quid/3PzctnhK4XRgAyT5bost7Nt9huDA7vAg388YTwj+WV\n",
       "kAR4TxrX85+jXQ3mz6QOAuCV295NaDKutyP2QSL1aTW/Iib9jUD1LvtW4jZEjuqpwz3qYb/f5tRa\n",
       "wPdLZKIzYUAeCGn2YhkziCLdN+gyYq4lBIzcDgSUxNiEtDJGCuj7QAAAO92QMOZ9tf2v0/EpDZzy\n",
       "nx/SX2M7GjcZ3GxtfRM7dwcOkucTA9FHY8f4sBlMMj/uxccNwqCc0+On3+TOly52n4GAUsRPPqa9\n",
       "iOot6EOn0LB+fhP4XZTMLa1FcojzGC503hOoY5A1jIiqFt7Ryid+5g9ywaGFmdqVBAqqpq5SMysl\n",
       "t2qFbPYfXopYVzqAQUuLoygsuamFbfwCBXbfnPb92O62O4RSil8GJsoUdMQ60/PbPO9pi6RtZrb0\n",
       "spWExrEb1wAzAMTAnel1x2FJujEWuFq+CT6fRyJu4ttt5SZWvqyQ6JyUUNbIO7dSpo/wiK/XIzxQ\n",
       "jwoVd9cCOuJ9ByKqgGgB860gB3peVSz4Rd5KSlAHMUPhWLjlxFFz3INpdf7X25qeuyIoBCk4e4mn\n",
       "Ks63HyhRBDVRFRS9DXHrAdLMCDM9tlmYDutUa7VKNYufeH9SgOTXIBNyTujPppAVSGSO6ulSPPN0\n",
       "uYg01hv8NnVl+Jt9/DaobR6AarU+1+PohX3uvHqmVL0NDLD+O6GNA7z6whTeSmPoD1lazcYhLhsQ\n",
       "iEczSIq8////sMsBTBLKeoLD5jvgg4n0vvfmVCTG3jmySsYAZW79sWs2mvrjOoar6ftRUMw4V12N\n",
       "AieR/tmjjk8j9p/7U8vBC7myx8YooW0lGLhVMzu0FLVFf6tjTPk143ueOfmyY9zbdpP2VNIQyHTS\n",
       "mZ85UcHm7h7G1Br1/eQqIADazvyNKsd17hg4r4EjqeajaNDRaS2vK/Wdq3OIQ1LZCX6xekHqNZy1\n",
       "EklqbTC5x7/o71bIJP68k+vbSeCFVSkUJNl6jUM6sjB6CQyB+kQwTR4wJSwKYQPOtFn4qSJ/hjHx\n",
       "LysoXTdhFkk7YHDNT7WvNr8VqM4AryNuWAqv4QVuZvF/UhsSGKKB3OWO+VwGPjTKHAj1M29u75PV\n",
       "2+6lBEhh7fgamgiZtMrVV2ABbDS7/gZDxHVK/NqzH7B1LWlg/5TczeXzad0jWqXxcGm7R5rlUGJV\n",
       "2mAwKfnphGOvmV/9uZyyewlkmr1CJHTpUxIlTvWdsGOxp0PzuSdOECZhvdu5c0eXD6+PJ2rQ+RHd\n",
       "zgMu/xhmg4rfHViheI+cfPALXbZnyCUVYoKAt1c0OUojYfcC1w7vMvXmsLdP8St6h/blA/67iJhB\n",
       "0V9sJPQVWP+2JSCRRDR/sI8p11vmtKUeXzRzzNRNK/Zt6PY+ogsvbtkcKIt9rEbMpGPjGJtQ+flP\n",
       "bQeX9AGYx0yeAif4c0GJHksmxkwEkQ29W7iiZteRVNzO/UJFwpeqzPgxscFUYe+Q7/rhOJv0XGRi\n",
       "vDzmyDCCjBRslAJjclfFp35FfaHdSaxHWkw821UnCiV0QE24h0F8U/bTGACF7HKXvY5LUmtPeFQM\n",
       "ZRqEReY8CRX59F+9mNwxfjhwsRiMzJBb9Taon6iGRsLNnOtqR5he5hQoUnI/kEiNyCoknTG1BzcS\n",
       "5sp4Y+MCVEkjUZBMoD1CgncqKRfFvRfs/egKbnxIRsFTMHwRCp85Ibv5vSvRPSXjoLNh4N7qbo9F\n",
       "ij+fWnje8kAJT8IBbuREpRNGf1N+kF0YV0qu3VBKspNHIDPddWBLFYX1PV8imxDq9486txz1wzel\n",
       "MwWj05QRLQQbKGc5y8YT++fWVl0GtPDJWlA6o6LmCsKrY2h/eDTVJSazitl4r1400BYqWiTYz6xH\n",
       "8PQ0OkwsOTQZfR4ALYVPaRVqgZyz4aWI4sOZxe/KPzEeoKZuYKy+Wx3QY3LprxL9BNwEPfeENqL1\n",
       "QuIJ7s/quoEKKQscGz4iHev1YWnyQvnglHDs+nTHvdYPqcuw4eB9bzA9qvxZUbTItwaPp0CfGBUz\n",
       "eBJJL8yIYQBEYNajOK/4wGqDmXBMBOu8ixc+/r3tjVtvsfoNm2aASXCexjEK+o4TW6lIEAs7uCGI\n",
       "G7Wz7vuWCfRkQKkOp3ApvdDPI/2blbFy5jXFJiYRnW5yURnTbnx7SPYYXeeU4nELGDL19KhUc9IZ\n",
       "daeI+4AAAmIH9nTgRdp7ZVWLsDosXOEXbGPt3MQ05xanmr+dqzuoapixiy10VyyfYsyxcfZBYO2a\n",
       "CR68IvehY/MPQdVb01l3jXSRBo0dsIrFXyY4MePGbDhgq7jBcUJ2zrdgdMW/VHJGHXeu/NvLetyW\n",
       "Moe01AgkmdI0rv6hRGlXxQpDfXRNFpc78gJvDdQk4OiPQHiDVcoNhwq8K7nKBxoRZVL6CIHNe5ss\n",
       "Z2DOlnJzHlgN1SVinlS84JZ+8S02A8qZQigAAAMAObOWwXyBAhwOwlRllWRaDpPkT1kRhw+sMSYX\n",
       "hnLr5+omUI1X33oF20ajYKdawtR0+qdinCxrlSFQChG5RgRqQ/dhEry+oc2mQmwtkORKGEEA8GN4\n",
       "Ymxyt5JDbeHTyi3bsbTlBW1VLlhkoJU0IU+nIW2o16z/+AWYOAKBq6SgwM/o7RCtCA3TBoRUT8Bv\n",
       "swhnc4+QcKgSmoCCmETpLEmy9PV1aAKoyACWZHQ2RsLkK2jv5KmUU2+Rkzv7/G+tCP0wwjeLkT8O\n",
       "wAJDifPLzh+6iG2mSNCK7W0xrqIcbP/oaZdTSgr5EglPJiMnL7AFSzGwDyBTu/onjDTfZS8QOaKt\n",
       "tuHiaLvCw+bLNF5atqPqRi7R75pAFeF8+VPi1qOzeU3gChUm0mu8Guzvjf4rwLymWYd91XADRTtf\n",
       "u3IKSHXu4AibZtKFpbGl8+r2EImAu9+61NsSCex5vyDWLqqZUeDkQC3zO5KD3ZN77w/RuqfHmI/p\n",
       "P//4BV82dKdPTPN8ycoWPQgREG9ynf2We2lNB+eMvAzqmnhOfyqzbniC2ANXL/lt9iyyakVYG64j\n",
       "o5zCmKyqnifMMiap2VWqqwQxlrzcsG3uM43vngO58wTMGUzdnOwEms3qd5UIv8ibAx/lZTAnBAAK\n",
       "WOnLnj8CkzR/gpkUuL+N0bRiUaq3KLbqPzYdN0mzXmDR7OO5Vv8VPwUJQMh6YIcyBJCr5BAeUHOe\n",
       "gC33IEOk69JW6xOk/DgzLoJj49Yb3V8V14LzuHFxMbqx2b4WQP5hDbkLb0/0Szo3PlwAnBenWlOg\n",
       "G6pd3XrDycMS0XxElxEfQIsE+IpDp1UVCrb2rGTFqhjsJh900F8BtRHdzbYjMh2CZliUXPPifg3W\n",
       "6sSBU89sXntX3amHTZpURY2i0h122rsDIv9bUrvvXX+4AEY7MuxB7DRgSCpBMbYQbUAmZs9vF+kJ\n",
       "NoDYh2Qo9xSUtj4OJEX+HXID+pmWoGVWDWHTBgmvVTAfm3uHV9QX0DZmSl1CeMhGhrO1ZG4JMPbO\n",
       "pf/5auKLRbN3y4QSKwwIXMemxplO+ucZhMj3PeAJaLX94px9C0Q5hTl+uU7m1HqxqMe0PlPISDj1\n",
       "C0yQDUkDlcUvgRoOp92Tx2mb1gKKLdNaQLN6JGmZz5HvwdI+0DgGrJ8iErARBXbz+by1m02DNK9I\n",
       "iEKDn3ort5Xu1ePk26/j0gjeqrNF4A20wp6ipdM1Rd/k2XVAdpYZD5sxj4eW+GUW+3b/80p9LIEm\n",
       "PcrY62pkn9vjdHnTeSAx284zoJuMOIqqKjOcrj0P938XIqMVQTmRwrxsoviEnsfrojHgtZjQNpc/\n",
       "gTyLEpFl9lYZ2aSKaNyjQlnLeut5GeQhS6LepiDkIQOgrkRnwwg5AvQ2rSkIKAq2rqWc5tJSh/Lw\n",
       "619WgNJvyMQVk9ru4PMmJlsV2HUEhQLGX8619/k9X+BitKw8k/76qrjTfBL/n+/cb+Ajklwb9kV7\n",
       "DlU6RhCTTRrR1+Q4lZoVrpZpY/DfW+4Zz3IUCUs/owj+mOlMIExSq2OkCYuKp8btQNqI5rqFPilt\n",
       "CWqBJ4WiAmQOUcMZ2KiyHadxeX1FGaa3ko76ttkq89RCQZSq4Vl9Ux4tmUzIwR4L+7w4z79eQvsw\n",
       "IwrV0l/JxPxnz2eAn3zpksjf7/wikSaOO1Kg/fVNJevNUgKfm7g9XRJ6tpRi03EkCJqjr8q34A1G\n",
       "Dsq6Eqpejgll8Uar4o6xkcaUSW1EZpHHUBffko8hrxS68dXS5TA4Du7s5p9lfwEusf5Kik2AEwBY\n",
       "L/P6J+GTIkc/5byFI7yOBcn+gIZWSsyfjznkG6+WFcrVv6Hap6/EykaKoXpeb0PgV9szoFX5BoGl\n",
       "WS6aQAAAFA6cRRlTAAADAAF9AAABxEGaImxBD/6qVQAJgwQzAG1/Hf/P/SyNhBsepDIGMEVYMtv1\n",
       "+6Es8p7QOA/LHA1DvFE/rF+jtkVHf3nZgYnKgQGTA5NSfzBLeDtzb2W204z08r2ufUhsYvypTF2D\n",
       "Q6dc7QYJ1K4eAz0QGB9Ya/A+dW/bf0C18g78s7aCjUHdO+ToS+2JoxJfOrCjXOB8ppK3z8Du4tn9\n",
       "0HVIPE/VY4B/mVEmVI3kjrkok50p2ZO7WwEhFmEd5amMkRrVKVfavHezzktc1mcygLuLzFzabWqW\n",
       "ukuTr37kvBjWuu4gSEkSgrAP3LcWD/8bNrXT5ppu7506+vtszIjipol5dKqDFOr+EeJpmj5FmdGL\n",
       "kjPEGFwe2yb1MP1p9nqQ4sm5cVZT1g1X8i48NWTT/ureKxaOlfpFXluokiKoICo8W1wxXDzgAoi0\n",
       "lzr8Ywx+Z38tgqrcTS/BcFT8R245KdezcINDfQTlrFhBVFPjz+nS2nTku0AF8SHXEWidi2PgeoTW\n",
       "KSQLnbGThBqD4FZwb6wCS0jlftXmycRM1oMCtD44aHqKv8BxQ3Okl9qG+IMA3TntjhGlg8g8iCkR\n",
       "kXIfZjX4B3ntXTEVZ/HlnAzIAAAAUAGeQXkN/wAaYA6DMUk+LeWbhInTZ/2b1QJIiFkAJWN5RQz8\n",
       "SVWPbK59FR4K2AE66AFZoDK/UXEqCtHYwgHjKK9/Add2o27KQJiXEqCHT4KbAAAA0EGaQzwhkymE\n",
       "EP/+qlUAAB9dpfwjmBAlrbJUjsFSTT+mTtA6yOpaNoEGgXO5e5IAqg8566rdcFffoPPKtJfj3QyE\n",
       "Vf+DtpK9fEJj0Qyaw6lrpb0Av3OnguutAetGD59ZDiZp2iZz8V33eccs16h/3uK7+zbuHMI7u8rX\n",
       "6rKe+t77zNgJ5nbboYXE10c041fUwl117nAI34jaZM8Yz6O+F36RCIPHKqMKR6Rvv5cw2wswy0eQ\n",
       "TmecvKEnwK8lYqK5J6ARA/GRvm6GT8t3Q94jpxYAAAC9QZplSeEPJlMFPBD//qpVAAAfL3ahtsqo\n",
       "oJZlQmh/M7rIRSQAA4bCkjN9QN942AV28DzRjeDkio1GaVfH/al7xDlq+l0sFgoIcef8c36+uDLZ\n",
       "u6UXS9mN0WQIdq7aEfW+s3yX4KoZzNifzm/XRKjh/4Siadjn44gOkI8uH2c4tpOnSiBm6nCBwilY\n",
       "WjUDnmeO2snZ7c1tHdk+/I5pO44k7wI9wwNxzfEH7s76CvnZzgqMmCCZvYmy2bOHqekHAAAAYAGe\n",
       "hGpDfwAAWI+luu4D/uBpRqCBm+hR6jlvlJuzNXXYiGbrVWXP/Y9XMCV5jHqr2qKE6/FtCRYDy0vs\n",
       "tlzE9U/U6mF6/jmqJ6Ha9F/ZTik6ZtvmITH34oXsTwoDAT0kOQAAAOhBmodJ4Q8mUwU8P//+qZYA\n",
       "AHoJgnmHhzzCtvWEsfc25R10IwAjK2p1eKegOyQJejqOzxGfLD2u7+w0g3xv/J1/oAY8Qq7V/6FG\n",
       "N0ZbeU08hgz5fbFYFRT38FRFPpJPZvz2mqolkjeE625qzA45IDUrUmO9wuKVwQrfWKiqcqynCk3h\n",
       "saeR59DMUj03+NOoovOWPDGKucyFXjihSf6u6Js4ZZWcoSoKEaG4yY7NyjS8HzwfHI3ZUkyTJCbZ\n",
       "Axwe/RVcYLH9/XMmeosWJm4ijFKdxOO18IztxNC1JznUEKsMLGGpBI+PBGw/AAAAYAGepmpDfwAA\n",
       "WI9AjMyJTcfRcbzSACwlKIfKr5Lo5n6G1mfBNFGvI4++liauo69uwUTvj/VX0vbVaRZIGj6UWRsV\n",
       "sUUnN6p1c5z6vpxUY4DmjEDfqoP8Q0rLlEA2E6B1wQAAALFBmqhJ4Q8mUwIf//6plgAAegkOZh2O\n",
       "TDuVeFCYnrvHUAOEUF00zxuzr4cijrhu32bDLRCHK1pxMADthnOwKTFp0ozaGdMAhZty/8KZzOga\n",
       "OXZp7VAqzqWspUvjC/lMGyVVYS2fSKVwUvomjZ+L+df/ysEI21hLYK9Cvr/CDnfiUwfYuzo+xdNk\n",
       "CU2EEql1VEa3P8Zc+r91kjqLrERBY1HmKzZqMGA8GefuPC62/iLUFMwAAADBQZrJSeEPJlMCCH/+\n",
       "qlUAAB8y7RIf4HIXerqnST3ZrpmBbGbEetLzabITLBPbDIPOMRVsnFn7JVSpVUBu+aJgYxmyc015\n",
       "BOIb6BSrWg4h18K507V3bG9FUgK2Sz/CTaKPY01DJo7E5jSOuaqOUjGB3sN6Q/3l8/v+P60do9b6\n",
       "zE4MrmjO91iz5nPCJW1cY4DdEDPMV8gvJFbI4TBmy76usPx9oJ/RaSANuVqEikibyA3fMQqi/Ju2\n",
       "Due6XAnajTSyEAAAAK9BmupJ4Q8mUwIIf/6qVQAAIAa1qBeBVF9/DxmO1IACuMiR+6cJNjL4E4xr\n",
       "UwCsYr09NUj2Jo0i2HlWqODhYpYvjPB3hsYGSZ7CyoUF+uGLRqqqzhMa5K9q05cu+Jxv8P6KcTya\n",
       "4VrBPt+d5IJ+TWKQNuBEvPS3WMKvU3nya6xwJF9IbhFYfVP+lEfemsGdGFIBuWkkqj1n+LU34MNN\n",
       "88cmmbNAwPfyGV2WzNupcpVtAAABDUGbDEnhDyZTBRE8EP/+qlUAACAGztbu0xJtQC7RYlpANWfe\n",
       "Pq2CxgRt4XUohiXMpZSzXAws0MVbeaeJp/VeFppzwQPkouv7JgpX8jpILPC9o19Q7hs0PbjErhX7\n",
       "bIlFRDnxON3a1vvNgJAp+Tp7fN/XZixt85PYIRe7Y9BPNpwHxUKqTe/O9zh51X3XZlmkWJTwYx6w\n",
       "a9mDH5bCoRO/0NTHosjukgPMGbnKvGyPoOal5C40pddLVg4OcQwYkfMb/oRKB3DLNI98IWCxJoV7\n",
       "hWrYRKaKiND5dLexFJtgWmNVMEgaQ12I/iMKaa3Tt/Xca0A+3Q+ArLb5VuSG7/sjqEtpMq2bs1EZ\n",
       "eQhAArpoAAAASgGfK2pDfwAAWs9Gq9bCXCwaYCTlj/+QAkyN//6YWb59rPz4whu/1IaTxXoUrO6T\n",
       "Yz67DokQvdDct7W7hsD5ZlmnPTju+AOmRxJwAAAA3UGbLknhDyZTBTwQ//6qVQAAID81KeaxCtKt\n",
       "zZyzS39eAmLMyi0+de6lodyG/zPmO/4kH2I/cFF3kUEq4PR/GJHf1tX1MXtICFmhHrCLR0nj7IiC\n",
       "13Q9VWR0TmsDV8LBt60/RfAclqIOLRFswH6JMh8LvHl3sEXy6k7mTY7QwENnG3IEjQUKmwqB7/rf\n",
       "ehd7At3bbGdgtn1Hjvlu61Sdtw7z4EEpYW/GK292rKeCak+xz5thnYP5fd8mmdEQOttV0pVY+TBV\n",
       "1BMxmikpodCx1myMNd7rS9u4nc5tf9+nAAAAYAGfTWpDfwAAWtOkSbOY6wp/1gA/pE02ODTRGx+U\n",
       "3+0NjVoNaFUGM9n/zyd6690kLNl8lg6ud/h14av4IFVlqLvezrMZQZU8o47a7AZjgO8dJaO34iH5\n",
       "CHh7/lQETABZwQAAAN1Bm09J4Q8mUwIIf/6qVQAACER9jtHORiQAmqlbIwlVR3AOso2Qp9mg6YPA\n",
       "Jgs+PznoPnx0m9cEMZ+1b4VDBDkEwjjAT63N13we1WQh/F9Gtr3OUAW3R/dozDvMA1cLtRDqbazb\n",
       "Y2lrCPzka9RcqWw81J/Yzohig/tdPyXUXIreoOgmhYYEQL04W1fh0uxSPUH25PmsdE724v2p8dVM\n",
       "gmGes/eaXez5D4vz6FtR84H7M10Vc1XHHsQ1ugAl0VcNM18RowrM/Y/b9VM8ydmJ4k0yLcCiTC5C\n",
       "kEgGkDgFMQAAARxBm3JJ4Q8mUwIf//6plgAAIAY0UKZMwrxENOtA2aAwzRNrheDkVA0CSmaxB9Rt\n",
       "kyae88v2Byx/OZsr0WR8+jj2449gfwVZk4dmVYA0m78RDjfE1IxvNuVVCNU1E8SL14XesWkLN0sZ\n",
       "+WTaqTXHwqvaZp+gmxiiz7da7ANqlkRxhO+SY1N5vgu4Box+0HGbcFl0ySA7qwq0n3/OoRsgI29Z\n",
       "pg/t9nUUY5mYLiHYBfA0O4hy9iug3YgSUwW15oihmWwNvuKTavCrOm2kk1pcDx+e1f8+XPqZ/HK8\n",
       "OCf/tlufvG+CxlZiG0olVLJphSTxMxpjmjmJtCwDmrkV/MX777QwnBR3g9W571gn3m8TIi5xn6WG\n",
       "doPMynwgjDDpgAAAAFBBn5BFETw3/wAAF+Uz7RzqX9m7RlJ8pt2ZGVKctqlytKH5EBihn8qQAhPk\n",
       "3utVP2jUsQbzYMOq9kIF4JEcMOUFUfMs7WBby7RREENvBcAdMAAAAFsBn7FqQ38AABdBaHTY163+\n",
       "c3Gc/UKRQAJNBAV+hlLfCaAJZnvM5WuGpVGQ1iRx92oB8AHIcDiNpmzaM9PKST7tMlL7kA9BLiCJ\n",
       "PtCOSM67P9TiccTmIsamwAHzAAAAu0Gbs0moQWiZTAh///6plgAAIAYJFDkxt9Vs499dpEFn2BkW\n",
       "qrE5ZizFdtYAa44koknGsKPHQMpigxoHEeVuf4NGI4zCsGKb2uJyjY1+OR0FhuhZDxeMio/3tkzN\n",
       "2aDDndfQruGtH9qer4FWRYs0A4etN2JEqnPKhYQOUjLDMmDR5GwXELsRJOsUlmd5KuMEwCkITMxS\n",
       "WCSSbUJZ1TITcdjxlzCs/l/HUXQk2r41PRvIPdzv2wBO7Y3dRrQAAADhQZvUSeEKUmUwIf/+qZYA\n",
       "ACAGS3h/flQH5ZRxb2HW9JJLx7UAj2VlTupA0HvqOxIGQE1YO3Axopb/7/FUjw/hKw7iohpEhbNH\n",
       "j1AfNIpS8yGL6zMCrc1PbXDycTHYpV2v4V8QZkJHFmHbICTjsWc1MrRtqfYLJDSn0KO+XZi/9W3b\n",
       "+rAOWPpYgw0DLao4RzYRF6Qfi3WcHI5Z4iOeBkNLb3vD34Ar4AdL83BXf6nZtcNVEFmSQOWc5YTd\n",
       "unkzsXD4LNUCF6bYjWQCdLMjiZ2EJR5vd+bw/W4FbhtIm5xzyGLAAAAA00Gb9UnhDomUwIIf/qpV\n",
       "AAAIga1m7WAnU7LoP/HDBGkzZ7IAg3rXsmoakVhDjxNStaE3Lrd8oR+yXhL+hpN0wK+7g6N2zK1g\n",
       "NPqbZezKpyOOJ/gqzIiBkS8OHewujAszx2xAVxkgIVk8zXoE/nJRZ41gP9cF8pcgk8J83dWchLfy\n",
       "dJyXyQFGZABveWjmWq0EwfemNeyteiEOZXp94xVf2gVq2Yq3ggJxKA3asrXQZjnleOQgJMSNmFFT\n",
       "NYC0vlCmt5mUgNtbWkv83nfeHFV23HeofTEAAAERQZoWSeEPJlMCCH/+qlUAAAiPVvZ6jJQxx4/N\n",
       "5ySV8aEWdW3RETi/qnm2kf8rz4k4FAgr473+e+s2g003Su0OS0KnGM56ntbZgwUHSZmUHO9xXmjj\n",
       "ibC8qB2TecEgbF02BdifT8FYEAOwIRQhOXBZclRW57pP/nsfPIqz6WaBX3PnyKwNp7HMeoj5pcYJ\n",
       "BniXouavzmeh6BOpp1ulz6G1T/H6eeOaIlUMkUqw3cbiidIVdqDgng4NfJCqWcRoP06iM4oLWwj/\n",
       "X4exncqh0mxLwJEC+9XgwLbnj9mndEae5atAjGooQ9yfFh6Du67qV8ygz5163csN+G+fDCDDYDZB\n",
       "/g8nMSHDUNT9Njnx/ebpNx6QAAABBkGaOEnhDyZTBRE8EP/+qlUAAAd72tWMYqABxEc99OqYV6AA\n",
       "8GxkELa5s0Xrj/98y+AVXb9TmGnA8VsRMccbteAUzG5yo/aJd+RjXUe/gc95wnHttP4hXXKsAj0f\n",
       "Z6iATZ6vOowU0bGYk1hEiVi5W/OYsVbn7+T3bD9zlOAEjjdCoxQdDVYoicGM8UY7KISOnNbRqVF7\n",
       "2FgFt5zTqIAmNsdXPShSjOiaOzj6f4xar7tUNIdgwoQxI/VUsyOUuzVyx4p6kQfDB9c5AkiudFh2\n",
       "Ta7lbDsdBoP4hfniUuOw5ytnHqOSxWZNm5+Fvl0Vcu8YK0yJi1uRNecdqDJfG763JrTFrebrrnkA\n",
       "AABJAZ5XakN/AAAVAWh2Jhy/0z4AMopP1lHDNQMKrVWfBz7SligBCTBhHmw6YAn8S+ixYyZQoThy\n",
       "vVuNRBWjtykUyX+wF8ANgByQwQAAAM1BmllJ4Q8mUwIIf/6qVQAAB3PdWBdUidVQAbmZvdKBL2oE\n",
       "UaBsFLW4TvNx+J690M/OR1B3UamWRX+aCablrrnNOLwDZ4Yxyyzs9R4/Mz58LDHb3hR1bXxv1ULF\n",
       "5OXd/fIdajgi67je0xZccn3UdABFWA4+Dh1cKbRTAvfAuCQXPyqClipdszaLY3hcX2sIiOMwE7bM\n",
       "798eFtYDfU/ZuoOxJk8mYIT06pbg6pwJCPZ82pPmU60Dw9I6I0twv+2kxqNuNCUHnqVgpcpzwY/m\n",
       "AAABGkGaeknhDyZTAgh//qpVAAAHe9nBIXkAKx2wenjYImln76vrpZrZIMZYzknQBy220xCohK2P\n",
       "QThkSxK4nJcKOyI/AG7bi4x8ER/V7cXwGI0e6OPvwv0/tah9nFHt+ucGj/s30pMMQWzKNqXyd7MJ\n",
       "i4yYFfQ31qTJN1mzfX3EUArlTRdb/caCavUWk+DwtBxagb5KuP0ayCtzV8J1ODr2666tN9fWN5VX\n",
       "fT1aMknTWQJSwMgo6+mbuOR0mlfxW+HNSu8ctLL2QXgXnaIdF85Z9ADDYOPLRJEQq+7I6Rp6wsAV\n",
       "1jGefqTgUVR87YPpcxW2KzGMKvyshKkP7c/dRGSwITgOhRNEJIMlHhQ0dn3jmnKEf6bQgMEVRjE7\n",
       "oQAAARFBmp1J4Q8mUwIIf/6qVQAAB5/dqRVGGKgAbYDiMLkv0asE0EopjU5Z6Q+QjcELvIzQiSX4\n",
       "pB8Yc+qRSihDD8yhkGo/QI60YI9B51ZGnRkH/RyshSu7IkwO6X/sWTJUIoBusfG43S83lcefTyBq\n",
       "i0pjADvFlamaUq4NvMVRYtI1XeELaM60+HcJWUv19dpW3cSLexmOyjmv3SS9xLIo46b1UXjz2Z3H\n",
       "3NzHI0cs5rElHZvcO5qSV4NTK+G1P0JWL94lvSFlKIrCBNhFzgy5jDVRETX2Yfeh1U7gnWVMVd+Q\n",
       "KEPd1XlUo+J0pg2f5uRK1wdlEDiOiMXjOOse6Oxtwu8DAkKnLo1y8gLoy7xw7vFI9IAAAABkQZ67\n",
       "RRE8N/8AABVOgULWxSAJvdb5boGS3U3hamE1K6hvH5sdfQxOqVxGc31BJXkG7astsOcBbxaiAQiF\n",
       "zDoHJMRCAzOPk329PQeZbicQaNefNs2JVCfGOESlhkj2OQ/+IJJNNwAAAFoBntxqQ38AAE+Tv74J\n",
       "MyOtYAWOSf2crK0WqlSgo93AxaiyAZj4v2cE3qfWVopK1MbigVdrjnWvEOuPmsFLJim/LHkFF5mu\n",
       "w5ZbMgPz3zIrMYHS5zoAIKdU6oEAAADtQZrfSahBaJlMFPBD//6qVQAAB6K0bAhhZgACam2w+eAH\n",
       "dRAirwyqlOTNiihLHpDc8WKeDDe9boMJrMByeMNrKFKISt2FZ4py7TiN5UcfpXEjMsMjpY5p3RvO\n",
       "9EARzN7N0x099HTux1tF8fQmO/zohNXIDY+GiVhcUG4Y3DqDWZHFDffAHo4KKUL7bQ7LCdq/ykkD\n",
       "uo2pN4N1iUVLFVikbFzQ8K8clnl3JwqGnC8+K0SQtA/eoa7doOCJ3FjP0pQXMOlo7MWifue++R+v\n",
       "URzWE/IdGLtg75/I82ZH4Z/tGTMd/LbQgERjK2HzzoCsAAAAVwGe/mpDfwAAFUrhmTXSmr7CbgBN\n",
       "TmmYZgtOgpiIccfneXXA9LawI8VREh/QqQB/5nkwxviTE5ah6D9JLTdBweTMVLrMgL1FpdU0c9hK\n",
       "Lpcr/eyJRDABZwAAAShBmuFJ4QpSZTBSwQ/+qlUAAB6C+H/9+BsCjn3qeTAAAaf2sEIIe5X24Bjx\n",
       "DeL/SXacDXJwK+NVkTEerXcfq2DU4S10Jb7KWwBGDMJXNHM5SM9HXkGPdyAEXnFdSZyFLHOvmedB\n",
       "lnz0Utz5c/WVHeE0Pl1E+2OWpjl50zeOIggdx6mvrPTaQKKxsbHQAcfbk/IU/KK0j36pGV5SRj02\n",
       "aMTrkZtX4dQWZVdCVKijHiXJ4p9wZvCaKXmphrjfnEGdOgEsjz/YmGM42Pfx7+BUxXmmmreNPtae\n",
       "WaAsFXb/IOZr0jDexkEj8GJ6SxnaEaOOUFnp2fJPL2W2u2sZ+O2++6GTZYa+XLFJGCxhJqhwDNmI\n",
       "VSuHqeQqe4HYg4AaRWklyW7ogcDJqgbpgQAAAGEBnwBqQ38AAFZPQIzMiU3HuFDK+QAVYDmC4rAL\n",
       "eUVKYlyl/i+U9tFsATyolZE0rDwaPS+7WoHDwGbsJDmSvZWbvSIii7tJBSHSCdPjP5M/cuf3MsiR\n",
       "ti/irhdjR64AABDwAAAA00GbAknhDomUwIIf/qpVAAAeguuyhhYsfjfihOD2ggY8AHCVxUHFuMpD\n",
       "9AQOmXBeuGB10+uKFl+ctsvxj8tgtsyD/PH+LCUELNxu1p+ABEG3K3+ukI1yjZYq/ECUp9uNdzpx\n",
       "o67XRX5Z9Hnl44Cw89zCF74XdmyMLnHAiO1aZOt3mpTw4G+An7VBcVAfQabXZ41m749rZ6Jsf4Wk\n",
       "8lt7GL/967V0nYcQLI+RV/jbFvl9fzCNGQrYLK41EEl2poqQqBZA/52vzehZMYvGAo2ddSgACRkA\n",
       "AAEIQZskSeEPJlMFFTwR//61KoAAD0OECWUVuRo8/I++3bZCHhGu0vrZgZrJqLHkMQYXGp37w8gh\n",
       "hV/LDCdQx7Qej7cytPFHX6HnXl9+h0tGCYD8FPQKRj75mNqeq2NuYwRWKyzYDIJBBlQdy2/mpk2Y\n",
       "faCzS4w0XKqER2l62v/oNWd6DLoBnzZ5BXDJ5ocQZDx0IYVsorBhM/VOACsID5nKYVE9Oki4g6aG\n",
       "+20Adk9DuVK0QnZQXUWcZa90vk/JdScjUOcIcUjDGcp7HkkEEhj+ZgbzPbWXVN9oPtqO4RZU3/iA\n",
       "XzCmM0In1Jnd8hVGHgjgySK80OcVeW2sYyrnxHPcRLsppfNKACpgAAAAUgGfQ2pDfwAAVk9AjMzD\n",
       "xShMXmmuTACZJ0j4MdAYDAUXC3SHaX5kmNdXUT6MNZWAE5Z+RzGMr+Dra3jhFUuTTmWhBuPQF/pf\n",
       "3m7Av0JZMm+ADpkAAAELQZtHSeEPJlMCCP/+tSqAAA9XIfH86PZ+LaO2nkwATUsCiN6b63mDJr9J\n",
       "M0dpkD0Qo+1xHdAD0i3Pmlfqwto5hVQltRXsULstidXXypbKsi2Y0caDrDB0Qxekm6ywMGXzJA9d\n",
       "/5xFnqNU+ZgfLGA/S6cEnfivNLLwApeuYM5JFRSdeaWZlNMVPYNIStbX3ON8vYkv0MMgyxDHmU70\n",
       "eAKSox1/50FGThw6iqZjnY/cADsGxnan1kin0oODtpsVRIugCSdsNiDdeM58bllCCEMmMa7ZkpNH\n",
       "KsK51gmXaTf/vyngDc2AgQ6LzTkWcjJiYtOxp0L6IGBNq/KCBdlq/0uq8ooHMCNSTgg8PDIPAAAA\n",
       "WEGfZUURPDf/AABYk6Q1u/vt6L3kAOPXWvDu3SdiWwqcACzXxA0TTjrNBPjOvh4FPsNo99Q6F1i6\n",
       "ucnqUveW330boRv5I+zNAuq8h5kMY4eSbK1TNOAAVcEAAABWAZ+GakN/AABWU7+USuQSrAAjSL5x\n",
       "dhfWBrK91vk2H8lw2tsfacwAfs5ORVK7PrxG41U+7JwBOsaTGTLaxDpgWgaFiKhHFcKlOCWQGjeR\n",
       "XJmAHldD9TEAAAEoQZuKSahBaJlMCCH//qpVAAAIBIrCYBDQpooAJ1tmE66w+vCFjdvFNGR+6SaN\n",
       "r7PTUtYoxe53m9Z/IRgA5Q/D8fmaPg91cbd7zjvLfgFVm2B93PzTIhJfhnD3cFasrF3guP/IqkY9\n",
       "b+oDMqZDuvqf/9rJsuZfEeu3Zf3nUoxHeAKpVLm/zVPfqHFxDv57LxbPHCzjulF7PBiAD4/F1hEM\n",
       "utLn97kHlD5riNUdPw5qcNnoSJJq1VgsBmMiLP+HsZx5KyELraf81FCWat7MUiDciueq5tlxxMT0\n",
       "J8+L2dn/OQppq/Gk8TQ0PatkM1T/VUU8WyWzVnzoeTBBB0OyZRbIZGvfY+AlYJwIXUNlPwADKb3f\n",
       "5fxWVDlXu+b/wcKSfQmDTy194GLXbqYAAABiQZ+oRREsN/8AABahqO/k9GZ8KGAASUFfE9HXj1/w\n",
       "kVE4pOm2FrmDxj0XITBhqStGQDFvhCNslf+JsZ6uCYuZmqS3T6ZXCqtfs3+Uj/qFCi6ryxSZEvjU\n",
       "Vhwmf01YCSRWWmAAAABTAZ/JakN/AAAXROdpfZr8I04ASnXFpdNiUeHTiGUOwTbuwWWn5i2hQ7WQ\n",
       "yhmsZgoCLtVZkiqzKeUMKwLlfV9IXP6/U53+GuDuwq3Ph6VFhK55s+EAAAETQZvNSahBbJlMCCH/\n",
       "/qpVAAAIQfNIS34ZNhw9vj4DJMvd2XF8F04Btbf3PmOB5onKQMWuK1iSCfgccQv7jtg+VGQfdE9C\n",
       "v11/azCwI9LP9NSMKugY/yh8BXt/lzxHSE52pvHbrsj33RocNm9TIneSUhQgMKTGkzFCVpDujQrK\n",
       "eUVa+RScmKC+mJOHjzuwFZG0SyoYC3YuqWpp7F3afMpyHOUI1/ALiLdtWLV4rKOvvuPEqsllyB7G\n",
       "B+4ol8Nj74AclvANNDH1NN1Tcq0pHwndWr1mO6RWrH1Xos5dQDqXEQqqHEEO2xvDO5pKf0f/BS9x\n",
       "cju/WA/cgxsQPXbzWeIhOuwXgKHRejs8quEi9qmxo8gAccAAAABWQZ/rRRUsN/8AABdIC/dLt7O6\n",
       "gBGgee9eFvntRYY6m0Slgf/an11H+EZ1Sn54JBoOcrDahp7yyAwUrfNUHRj9BrH/Uy0BrTbs1ZkV\n",
       "LqhlOoBgs6eACRgAAABRAZ4MakN/AAAWty0UVq4AQmeQAY7ZYAz7pz+srAsr4xRvoSE95SvWFgDf\n",
       "aL9OR/U6lANUCj8ToumJG5kg+0vvQwX3PAy8lmGH88GJQSEpABExAAAA/EGaD0moQWyZTBRMEP/+\n",
       "qlUAAAhBs7TntE+FIVcicWhWVwi8lSHEzLprBaRjWymT/vEuGyLdWhUA0vhKBhzdB1vYshjKiSoP\n",
       "aF76AzLAjYjRRfWhJzw7MFXvy4+VFUTQOH0pv27wt4vnXnC/pd47myq/hkbl8QNSNkz5Gz8wp4+q\n",
       "RcLCW84eU+Ds8W41HuIBzRkXVvAarq9olAyJyF44zPWvngPz6A2EatosF2gektrxkHoun/zKtZRN\n",
       "mFS4GukQ9N6w8a0RcgJgIbmOL6x0RECVXiNPynDZAIif+6jf2H0+eThxxhjLlpUgzE0S+9+dTDQk\n",
       "0BM83S94pABQwQAAAEQBni5qQ38AABdHnw2fBNO0H/3xD8rqW06T/M+uRRpYRI3qwvEhBNifPMtq\n",
       "btwAh9Ia+HijMB58Kh/WKqlcizz4gAAEfQAAARVBmjFJ4QpSZTBSwQ/+qlUAAAhBsrklyhEz3hbV\n",
       "oQ+tTPN8OQARZ9xIAEH6dx2mJ7jPzPQytpfeDOHH7NaCLQW4UAK/WriVdTuaAxG8VW0YznPLPeh4\n",
       "LjoXlfrSz59KEVI7KSp8xS5D/PHah25rOaQafEAC41KdIFS+KDOurGXtx7chBHfMtJho9d2rKOYi\n",
       "jkoLoN2xyMiPPPgv+adjZeVlzOI5hiwNt7nycBkw36LM8v+t7VkHI3XRY3H3XOLtQ2ie2i6pkyyf\n",
       "KLU9y74JrwkWJ3U0Dc361TbW+s1DYmjTuSUVeA96VRTTt+rGPDuwy+oMUJL6CZICbhMU82pGQefY\n",
       "tAps4sN02fsKcgASL3pDjAy4SavTAAAASgGeUGpDfwAAF0QIz5eztHwGl/q0gAa4NLq0wAbSEvz9\n",
       "TfG+Syn+9SxxeoZcXkeBWvR2bws6KzMLrvmieZmPkQqByCwPK+4bYBHwAAAA5kGaVEnhDomUwIIf\n",
       "/qpVAAAIT1b2eoyQ0udX7Yf5MgBHiNoRIwFRIe+LS66BU8uVvyuM4z83T6KhAaUPgpkmHkbnhguh\n",
       "R5IA71iCEnrs8DMZJtiTTB3trbeBUqlLNHLKlyqYtqkCu+5XDx0niVv72Ls1QukkYMHSJJ6l6t3e\n",
       "jDYyaOhY2oPDK3Wl3Fb/v0XcnCAXmGjUNeypuBWHWXxWzI1TjiAAtLYOX84Mysi7iC8V4ha6xwxI\n",
       "0KTh5P272DjWX6Agrx6uiyGjZ2Uqu2K0roBTb3GWxviGTO43nV/Slt1nOVk2bm/RAAAATEGeckUV\n",
       "PDf/AAAXROkSbOW67HWtHHbyUAHtt5aIIbvBXld6VgbwAtGGfk8Y+LpYWFbmeqr7FtGmKmExGWB1\n",
       "4z9H8f9WffazyWW4AccAAAA9AZ6TakN/AAAWtO/mIh+qdcALeXaCFBWFJJPLIl7eUIY5S+mo/gAc\n",
       "xx09Ub2K5RYM0Q3ERowG//40XsAUkAAAAMpBmpZJqEFomUwU8EP//qpVAAADAiDFDZtIewy8XxRY\n",
       "CiAWqWWRL+oAE3wJxoB+hdJWYYE5QqkjblZ11FqSSWVrUxu8G5B18vA6InhToON34RVJZNwcoFLA\n",
       "Fq0PGA7oi5LUNIcMKDFYhM+8k9Av3ojNfy9aM+fEmp+8/echcaA2OXn5MV+2BA3GzWBGkkHBttOs\n",
       "bt6rnzPf8MkFgelr+hHnALFlV5IKXi0Gomq9LIX3UgVpn7z4uZOynwnVzJX5aKaOKWZuS3fz4qHL\n",
       "AAAARAGetWpDfwAABfidmk8yAFunrXlGOeYo+yFpMtIL9dk+kgi4DDmcxxw+dqftqrtnRyHX5vDP\n",
       "AR0/ott9PM3dFgTLADFgAAABJEGauUnhClJlMCCH//6qVQAAAwIj1b2eoyIoicUmZuykhABGSrh6\n",
       "0ZVfwUeg5ZNjSYIplJwXJJRNeo79j/JEOG2od7pau3+Gvefwl3UHvQbfFRRDGNlJyXE0OEfStbUM\n",
       "ZXak2sY3urNxhZToQEZ/b4kHLyst3mY9GUwbKw1f+vNqZlSieNR1KMtCd07GQwpV6Ejq2wy8ug2b\n",
       "xVB+zue+14hw1hRdZa4I9Iy4fIgRZfFmMTD/j5CpMqbm2c4tYV1Il2hi4ueFNZTKqZc0Ou7z70iW\n",
       "58C3DWNIjyB81czD7c+ntSbjGbNaXOJ7o0jC1tMQDRGb7pSu+nAc7DK7xh6a/C1SmG8IUsT+fhIX\n",
       "fDKVMwI4f5qO7PLpDLqKjmI/0UWZQisvMoEAAABgQZ7XRTRMN/8AAAX4lvTVD62QhaVWBNJoP+Eh\n",
       "nyXHw7cBqjfmvZrACaVlremSPSXl+HxCtRl/o/iySVQ4XK6WlbrOj4BEmTCwdl+783iSAuEis/Ye\n",
       "Lafk8n3k8GdCgKSBAAAATwGe+GpDfwAABffNJ8m2X9r+j42kmTy+IgpiAAh/OusWKh2BBULxAMTy\n",
       "bXtVc0LdP6mmQi3K+cNOzTNzDD73ae/Ojn8CQVZ+3rT5VBwAOOAAAAELQZr7SahBaJlMFPBD//6q\n",
       "VQAAAwCMKvBUmsIABGUVMvO9WEH30ktopumAbPkk/V4f9ObHWU7JkkDza9AVM3jidTBz43hmxggp\n",
       "7crkSEKNLP6Wm6NvDnzM82b3w0wJ90x9Y0Luqe9cRspVZO1K38htkwOZ0fi2b0vxQTfouPhM/DXq\n",
       "uInWm0ICQlIF0uHEaesyfXHeml+pnOec6BJV8K2NZvIwC5UUkoyO9E481XODTv63nv7GInfNv0/m\n",
       "wo1cvfi3E3u6btxsxLTXznReo9u0/jFwdsSMWoSRXZdI3IhM7svS6WMNF2JgfVHbIY6qsbsuOFAY\n",
       "c4ir+AWM3iuq1WIAdR+V/PMMC6FyrOOBAAAAYgGfGmpDfwAAAwGH8E9U2QA42kR5FZF8ks2s7v/k\n",
       "Rh7Vnu4i+M2b+aFJsfmJ4UXzeDwtNBLNaN168d8NIXbtwvWO+zrAzJ/gd8xeQpnzQwmSMLpbUYBM\n",
       "z51wpdilVglAiAYEAAAAy0GbHEnhClJlMCCH//6qVQAAAwCM/21A1+m8zYxy9B+RH5strs3qs15s\n",
       "+fmsF/Bejqw7gfsvTemDcGS9gW6Ghx5vPGsE5AYVEpZlyM4vbgfAQ7k9uiSPNGlxR/2oDL4XFSlZ\n",
       "Uk5MkT/nlztbpfwEXbB+sL5xnCrCJcpYSy+iMXlwUk89FH9xlNMJEMJ7iciQ2wjiqZwVSsr2+48j\n",
       "xhK0XYOv9EJxc1MvTNIviAl1vwDCdaa8hMRhGihgYbvIlQTGGLhKGc78poZCtM45AAAAykGbPknh\n",
       "DomUwU0TBD/+qlUAAAMAjBuqmMLxzCRVyJNALOb+n1TmvTADdDqj+VqJz4bHZXN2ynpA3CbFpWtf\n",
       "9dC7RbVAV/FbZ9E0T+uTSz0hhl/MhiXIhJ75ogMJOSH4OwR+3xL1/UK8jK3af3D80rfjZqugulFh\n",
       "zV0NF2+C7EMkh69N7iTzGR6D77uNEF3zhCSqtpLDjju34D9ChfKSd0+DRvpu//esNC5G3gc1isgO\n",
       "oznanqRUncI8HvZJ+H0yyg7gsqPe3ZsiZOEAAABMAZ9dakN/AAADAYguhOt7yCAmkawfJoKPfABO\n",
       "fQq94X6A4tdE7RWCEFGJC6n9diU/fAt8kDaZKNU11NIDi/KSaWX92Fd0EL7x4YCBIwAAAUZBm0JJ\n",
       "4Q8mUwIf//6plgAAAwIj1b2JIjlkybxPDt7Ui/OQzaL8Qr1BEZBQAcInPFOx1MJxQnXGu6ajUcPr\n",
       "fYJNcPzrRDOT8A6zbEM9PWuOsT+iVJakJ9uMHUKlw8I/aSnAUnqZ6LkNl5ItXgA0xRL0+HRAeIBO\n",
       "L/Ap/VCwqLWagjtl0KdrfjAmG3qaSe1uxheV8bdVm5TmMHYfajT0ui3YbyMV5Jey9hPBkiQ/kI9B\n",
       "821Kp2xWmuCjNt1zVTsSamCqpCMDvbWFo46eS0JcKXsHRSPqI+fg3+dOtXWjYmUs8bYFvFLSCz8P\n",
       "AniQBuBGdBw+crrM3Xcvedg+DXrxnVDMS6Ehj1ZkVca4ebRjY9U7ZtVdbyhsBn8Cd5beZbonxD5r\n",
       "jFvMEhmezXFJqS7WnHzJOYn2JfYvifbxHadJCLs8n7PNF5Cf3QAAAGZBn2BFETw7/wAAAwEQck2X\n",
       "qaxpyb9EmjU49Xme3HTwXJG3qEQAix4Fl7t3YfGMWtVA+SEX3/OxHjNGbi8oa3y6pcv6ZBjDhQ72\n",
       "KZ9sgKB2YRaoC9n8k1mPnNv7muti7WuQ4PC7D0kAAABhAZ+fdEN/AAADAYfqqVV+DA2Eb1EcuAEA\n",
       "IU8uYXUyH/WvcsFsLVjRBMBouGjQM7ShhYJ6/gW+Tf/n5b8pnSzt6EBD01DlUjMuSzLxN7UImi5H\n",
       "VIw7Mzm659ViIT2QlABlQAAAAFcBn4FqQ38AAAMAYgo1g12MCNcB56VswlGxiNqKYTACUM0S1hWf\n",
       "0J/KXg04r+p99/qQcTqScmap+/yqrAWP1tXWpmDWS6BlfdKZp2RMBStqPUf7kqgA2YEAAADEQZuD\n",
       "SahBaJlMCCH//qpVAAADACMHGtAWCiFffwzM53CzCPgAXVSPbZ6xqxC3qsN+tGTyPF/2+Gv86xfr\n",
       "83A100trM3z4QyeDYpsa1D13epZDl8BARd/cEunE47Erz3jyIzFaL+lFP6sd1LzIsU57f0p0FCFF\n",
       "nSCVR95Kt0AecQTyS9KS/9mdGZG/N7BgWH9Dhc8jrlT/XjZRCDver+F6ynpPgoWUHz8GLwehP4ub\n",
       "c8fD9h83xtiZLA6IqYJW036VOYFrugAAAM1Bm6RJ4QpSZTAgh//+qlUAAAMAIz1b2eoyOLsRNzbx\n",
       "BFBTF9WakAM3wuBZgBlwi68DnJtzER3Ua5AxTn5xC6EfSLKcxAuuCRHMfiAC5n6rVD5XwqZosv16\n",
       "FTRSDjJSt3+NPB3QQD5ioZy/R4z+MotUIUemxp2LlwGwZ4hdjb95FBs5i0pTh3CNXxnbLXetuojX\n",
       "wGjE/NBPEDw7x4+IQ6uxBz8y5kY695Zus1O091WpyqRsXLBzxMPfFxOxRju8YCfT4UQVF2YHosvX\n",
       "29BBAAAAyUGbxUnhDomUwIIf/qpVAAADAAjIXlVaZDD/AAAuMZKi636/VxfY32lBNNulhf4ooPNO\n",
       "FtOWLrpBkirs5zNBG1Nm4j3+9qmwNYV2y6weh0rekW9HbVrDkvQFrHl/tEOV8Cci2kjkIpZVAH7/\n",
       "jm8Ef/th23NzEyGpTrtcV7lGUpJ31j/bJ67W+fL7Pps15zqF7t5uxtEjehpWUk1SO4AxZNOSG2zR\n",
       "zVQYq65RP5RG5j0RcJaZ4xjNVUJaBBVYUR7p+8d6FAa+H3E/uwAAAPhBm+dJ4Q8mUwURPBH//rUq\n",
       "gAAABGGkS09A15gaEGH6ZJ+OpfDLaAQpmGpnze7wd/w/acc9ryAuwdwvwyRMa83kY0o7KGt95omz\n",
       "lPEE+sj1v52KETDg424nUyYA3Lp5dksXiRrPNu+jllu0wBdB6QP+WMk989dmFBWH4YwAwCgq6l+C\n",
       "eeMa1XVlWFZteRiruLSRSu4UuJuB7WbxjfWVY/FxPxG7N0JV0aB34tdRapDPyKZGcQxL/Fii+1XX\n",
       "mddtrq2StxuYbVDxlSWK6gj0D2Fjawabcf9cSwC0RIfa+8IQF/fd5PtzoeUaWfdP12PswoG0D3ea\n",
       "wQsK2QAAAD8BngZqQ38AAAMAGSU0nSsA6UWiN0aqi+R1MDtKJpwpOuUmsron7O3s0ird7sAEPnYc\n",
       "s5Pf96BOe8mzFgvUCsEAAAELQZoKSeEPJlMCCP/+tSqAAAAEZ6/728DAbPHKN+77V8HCgaCXaw5e\n",
       "lCWrGnzoQYhlgjVJGZYCmv+PfDnpc5DFwN7vF0GF2vhXp4CKcElCbbEBKuNgtjslDGHOfeam8211\n",
       "de9GsFReoR8e4oBH6wtgr082kDTCsg6D7jYEPud9x59im+VeLN40WFCEmdTXtX+B/pvLR/8d4S+W\n",
       "I6tGbgHoBwCmVjVV/8/Zov2R9bcUrRDrUV3vAanVL9iX+MVtDgYWZ2BOeeA4qSODHUofcaU7Hals\n",
       "zNBrg2noxdmy7NNhaR+93lEC+N7L/epsHrjYvhpa0KhffnJETVPm7oUEGyMQxfqoan0YO9IXFM+A\n",
       "AAAAO0GeKEURPDf/AAADABkkIm7hZ1kz8xEMFulQ1CrFPhQAmiA1EgJbzivcf6wcVKKSENbbH1xS\n",
       "KG3FXeI+AAAAMgGeSWpDfwAAAwAZIulcTtwpWrITswAFChjSNEftlDymKRtz30uACWY8tAU5Imy9\n",
       "MglbAAABBEGaTkmoQWiZTAgh//6qVQAAAwAHn9PwrpgAFbuMtKczFJ/oEJyWNZV/BCOeoMy4SuNc\n",
       "ELto+edMS6DYAaG5BsGhKCZeKdEbLJZqX6LK25xfxsqkhgRrHrPF+wAief9idq65zamiW1Biyrbq\n",
       "3MmoqolMVZ0hfBTOtcmE4xH7Dj+BhNu8bjH+eXfyBY41XtQ4Px9n2IH5nM7I2PV5+fw92xfITzcQ\n",
       "4A3S1WaRZa7rjobxYr+emsUIGMnyoR6T+w7q4mX76DoVUSNH324lcGcUq/8WThhb1hH0ThF+pdeG\n",
       "XVyCsAsjjw4UWfau46YgWDSKG2BAtiiL4wVt/TmqIt4FndP5oy9wAAAAVUGebEURLDv/AAADABGK\n",
       "VCl1M5FZt6llQh6y96icdmyBIATlQOE/OmvDd/awzjeyF4fhVnBv1C80V2tf4jT5AW+kagyJcD8h\n",
       "PkSA8mudPWwzPNNOUEAAAAAyAZ6LdEN/AAADABkerygxrUm5PTSlCHL+swIkuQGLOkScpjEj7Gkx\n",
       "eJGLIH7NZ/XFoekAAABEAZ6NakN/AAADABki6+mAs5ZvXtFzQtjCdt8C4MAIcsUD+kFJAABYoXi9\n",
       "1FHvV2R/8K8/RvaI+NashajvOxpUu3oXFVMAAAC/QZqPSahBbJlMCCP//rUqgAAAAwPQOlQE6sAI\n",
       "w2RAhmJ6ebCueQa8zM+BnuQ+yzmrC+HQtEX1p1sIzp/kEy1LfRWC+G1k3+lX3LfwdHju03r1gyWs\n",
       "dhOgZgPnFD1h7j0WZyCgDIxynYcdFwu1C9MeYhTRdTKDnPapapvIN6/EDc9Ib+SjZfZb2f4znfrN\n",
       "fupQdJ6VhoKLCLT6h+E7g/1VAwk62K40N16LO8A4BpROxZhi2hislW2SmrhHkohFTPkAAADWQZqy\n",
       "SeEKUmUwII///rUqgAAAAwPSayg6ABw7qCP6utFvf9nmx3a1YEa4fPdUxhiaQKYdXfk4ikRLiOIq\n",
       "RUtcHiXpOuIl4pV9JDOvZky//dhMyt2Y8zP2ZgeAjMzydPDZYE3J+Wmn4Z1621iwc2SvUCmfB6Cp\n",
       "cZtA0QuMz4X8Hg4Xlyma0MbmsrPX+B/UgQrY/55XIZK3aAN7o5t0x3loO/ghXhAaQpe9ZdPUwY5Z\n",
       "eeT+HdZFlTii7s1IW3vmoDZDHHJrf4jyvFDT7bS2hZmFgO9WXI4hwAAAAElBntBFNEw3/wAAAwAZ\n",
       "JCL5IiuGkibAG4urHCACdLzCGbJfAm7DoK9Pu/lUvI83xVkEpBXGiNSo/nK00HT952ttsML1DWw0\n",
       "6nVAAAAAQwGe8WpDfwAAAwAZIuvkhWz1gTq4oNwOE7wvzUJF8CJFeMAE6mk3SJ2IVmMwEnKdXOfR\n",
       "bGwEgQNNH0CktLNKP2gbNB0AAAEZQZr1SahBaJlMCCP//rUqgAAAAwPQNAbZXcYwAOLv9VLeYh3b\n",
       "c+VFLluaKcu1b2rUpaNe1HWEn/qpUX1uoZlJEqyKRKmEmCr/w1YqbEe4sU4sFZxCoFbUuFprRerG\n",
       "4NUihJdGT9yvO+pcpjRDhv9h+IfaolG86i2FHPUkYhsryqG9K8qb7WWDyqP59Zdm7D9lIB+M2I7x\n",
       "33p4P07r2SrL3vuDicn4DVQxtX8Se8R+l/qBWFr9TO2CsnPPrWOwgmdQNF363+FjoaSCALyIOOWi\n",
       "tHxyZakhp7/oEetEeG1HbY7NuLCgh4phaQEvvGgruf7AYQpm26KPEOZuR43sa821JQGbXJUuFsle\n",
       "lkfKTJHGbKF11vrsyhl514AAAABqQZ8TRREsN/8AAAMAGSU2aPZI7+sHTGHOuf5ZhPNAU5wqNFHF\n",
       "2QcZWpEnkf5eAD+ASE4LU002T4DeYEAHtO3+8NXgOH3ZNraplfftihC2p1t3zGeQ4AgQMGmO+nSB\n",
       "Ds1iT52F5hkjMaqRgAAAAF4BnzRqQ38AAAMAGSLr5IVs1hElFdeaj0bsMIIYxhrYV1uUAIToBxlG\n",
       "C8O4NANV3FgrVw+2NuiJTR8yk20IGNRiFBK0YZUj+zTWlEQkxlPSfMF7FrCRYXCQjLCQDMNhAAAB\n",
       "A0GbN0moQWyZTBRMEf/+tSqAAAADA9JeOUYAG5UYp+ibDOzQ+vU+qKN6n2DcvYTpajlvX5oCZINn\n",
       "227yebayDYQ2y9g+iZkanq8jL7ALu/nt9YlUuLDn05ENFKS95PjAv5LiG/AWWEAgRCKmQi4j1ysO\n",
       "76ophZZKPislBglKc0/fna42dFzDKbDD7PuuCmpB1qDQn3V+Yj9sRa5XDQZmrdOoFpU+oba8SFeZ\n",
       "ABhfFPhMsGqVZgxRZ/NlwubCyPSOWch+6QLtG0C8oGyKD1VUQ5x2kR3oEsVFr15Py0cXSDFIuVsI\n",
       "WEy1WXc2m8LuRrEDWNimIA25MNexZww077a/8gF2/bQAAABEAZ9WakN/AAADABklNmj2SO/rB0xh\n",
       "upMqrraQAEQRwwg24Yz/Njj3Ul6aRqlrduD9g2BVeGWRRDvE16kntKWyTmxllDMAAAD2QZtbSeEK\n",
       "UmUwIIf//qpVAAADAAfUelcYFQtxu5j7t0nfARiQUtIpcNqfLFRV0mG5g7ZaoZG2mlayc1nh1Did\n",
       "cpuqTt1q2oYt42ZGYZfSiF951gMG9jI6pczursZ7Wz99yDhYJtydg7tlCN6T/KBHCBn0qVVorTq+\n",
       "B2pXDMH4TdP5pQKwUcoNa40d7Blo8IyUMJXa/ONexiOPWzlLTHb9KfsNajpjKzVVC340Q++FYTt/\n",
       "7HSTY/Z2CfX7HYlvBTDZjuKlo/heMx9/y/g/tTmYrJJdiQusmrG9Qq9qQcb+3QWMeMr4gNAUHcqZ\n",
       "EBrIJK1ro/IJoc+BAAAAckGfeUU0TDv/AAADABGJtM7v+4q6o3t+L2AIUXjwLbCjk59Xq1VJimTU\n",
       "bzvjGWP+mKdP9uLPLAXE26fLCkacF70JmtKeCH2EJLurDRcuqopzWN0wXuh/LIWclbfilpbN/A8N\n",
       "iLM8vy8y+gfGUkzONNPzZgAAAGEBn5h0Q38AAAMAGR6vjhlWd3ImgV/2ynmeZnHSm7D+ADusqTQM\n",
       "9LVLgXg7nDdKoCt2on0Cf4X8quCu5M6kVQroYXl4RxbK5tQFzWBiYGXAxqo+GWK0QbM1kwPCQu58\n",
       "iOVBAAAAWgGfmmpDfwAAAwAZIuvkhWs7p2R37/Yd8QoeO9MaHf7+0KjYANoJoPxn3aVvDYbosRV5\n",
       "LxHU5YqhaIjAlGaEys7nVsC+U2a8sMT0TIMWo/lPFMF2JVOFU8G7oAAAAK5Bm55JqEFomUwIIf/+\n",
       "qlUAAAMAB9PKzhYCZu2cIHypTMzy0QFM7Ljly0QxSKvTdBlOlY7ZYcSoPyCl4LY5cwGbCClplMFK\n",
       "2FJoOtw+c1KJzZ7x08vfSGCk1Bu3JqxOG+kDkghVhHdAIPA+oaKVf0shweBhii4nTm9sMA1SQZ1m\n",
       "yNt55aRrM5t7vy/AcP8NLoPw37ghwbZEXmGE9W/c9bgwSJQdJgXONGL2/jdlTPMAAABlQZ+8RREs\n",
       "N/8AAAMAGSU1c41KwlUzdvjnADOEER3TXCNmgW+ZK601zLXNrUAONdm0Mvf0O5W3wb3m56G7uz2o\n",
       "r2+vcmeI8wXXLFdRMoWtJxBBQYHJzrX9C+7bCWb81MI9M3LgHxsAAABOAZ/dakN/AAADABki6+SF\n",
       "auf2tcwIFLr9AAh9LoFEE1dllmSEoSX5mNyk08uVhPUp1pz+hKjoJUXgKwGyRW4kC827jD/Q2dU7\n",
       "Fq3sS9aQAAAAwkGbwUmoQWyZTAh///6plgAAAwAenyoJIBnvDpupPbfXgaTsbRa7KiX7GO8HQmbi\n",
       "v6o3zxT93JpaEOFxfjTMzVpXGqkeN+6KNhFS1QY96hyBjYay2LAxTCvwF5lLokvAm31LB9NkFB3B\n",
       "4A0BBEZ+PT8JzWZghXUUD6VngsfLcGmgVqVRceTDSkbdE3Uzc0RUakshoNhTsPvAjmHBuakfl1Re\n",
       "xgP/SxUP1Ft3uBt92DVZJxKWa03NWrkQYoX6vv1pfinwAAAASUGf/0UVLDf/AAADABklNm9PUIDg\n",
       "/KLIwhjLIUgCdszdOn24Qev1wAmJG6A/7uS7Ysp9iV0+ZLZdCylwaeMVIi+8OjdX3x3XyGsAAAA9\n",
       "AZ4AakN/AAADABki7s31ftMH5Oix8KUjbTb+jD9L8oAQnHWVrLOJsMsye1WwcieDNbDlyqCfZwwo\n",
       "OPU6YAAAAJNBmgNJqEFsmUwUTDv//qmWAAADAB6EPFoAvLjKTMGKGihuZ7XsW5bnpD7DW3G6ETd4\n",
       "85jftwE8xm/gf3bLaq1ygqIRCvmZMK8XFZ8LG63rn/x5bVG58T6QiVMful/aFK9qu9BjSFuPZ4MC\n",
       "uNAyG0YuOxQ+6nB91B0ljX4q0ADpzWFURUkqgVneId+GdYZcgZRc7oEAAAA4AZ4iakN/AAADABkl\n",
       "NlFJasgfEq2gyWQMsUAIPjSkjkKombmo83pLYV9JoKgHX6J4v1VZIbDdXoAAAAA/QZokSeEKUmUw\n",
       "Ib/+p4QAAAMAO1LVNr2JqNSFd75JIitVGVFVWipR3Y8MOma3bQEACHtLNUn7jI2hjps1kSyNAAAH\n",
       "T21vb3YAAABsbXZoZAAAAAAAAAAAAAAAAAAAA+gAACd0AAEAAAEAAAAAAAAAAAAAAAABAAAAAAAA\n",
       "AAAAAAAAAAAAAQAAAAAAAAAAAAAAAAAAQAAAAAAAAAAAAAAAAAAAAAAAAAAAAAAAAAAAAAAAAAIA\n",
       "AAZ5dHJhawAAAFx0a2hkAAAAAwAAAAAAAAAAAAAAAQAAAAAAACd0AAAAAAAAAAAAAAAAAAAAAAAB\n",
       "AAAAAAAAAAAAAAAAAAAAAQAAAAAAAAAAAAAAAAAAQAAAAANgAAABaAAAAAAAJGVkdHMAAAAcZWxz\n",
       "dAAAAAAAAAABAAAndAAACAAAAQAAAAAF8W1kaWEAAAAgbWRoZAAAAAAAAAAAAAAAAAAAKAAAAZQA\n",
       "VcQAAAAAAC1oZGxyAAAAAAAAAAB2aWRlAAAAAAAAAAAAAAAAVmlkZW9IYW5kbGVyAAAABZxtaW5m\n",
       "AAAAFHZtaGQAAAABAAAAAAAAAAAAAAAkZGluZgAAABxkcmVmAAAAAAAAAAEAAAAMdXJsIAAAAAEA\n",
       "AAVcc3RibAAAALhzdHNkAAAAAAAAAAEAAACoYXZjMQAAAAAAAAABAAAAAAAAAAAAAAAAAAAAAANg\n",
       "AWgASAAAAEgAAAAAAAAAAQAAAAAAAAAAAAAAAAAAAAAAAAAAAAAAAAAAAAAAAAAAABj//wAAADZh\n",
       "dmNDAWQAFv/hABlnZAAWrNlA2C/5YQAAAwABAAADABQPFi2WAQAGaOvjyyLA/fj4AAAAABx1dWlk\n",
       "a2hA8l8kT8W6OaUbzwMj8wAAAAAAAAAYc3R0cwAAAAAAAAABAAAAZQAABAAAAAAUc3RzcwAAAAAA\n",
       "AAABAAAAAQAAAphjdHRzAAAAAAAAAFEAAAABAAAIAAAAAAEAAAwAAAAAAQAABAAAAAABAAAIAAAA\n",
       "AAEAAAwAAAAAAQAABAAAAAABAAAMAAAAAAEAAAQAAAAAAwAACAAAAAABAAAMAAAAAAEAAAQAAAAA\n",
       "AQAADAAAAAABAAAEAAAAAAEAAAgAAAAAAQAAEAAAAAACAAAEAAAAAAQAAAgAAAAAAQAADAAAAAAB\n",
       "AAAEAAAAAAIAAAgAAAAAAQAAEAAAAAACAAAEAAAAAAEAAAwAAAAAAQAABAAAAAABAAAMAAAAAAEA\n",
       "AAQAAAAAAQAACAAAAAABAAAMAAAAAAEAAAQAAAAAAQAAEAAAAAACAAAEAAAAAAEAABAAAAAAAgAA\n",
       "BAAAAAABAAAQAAAAAAIAAAQAAAAAAQAADAAAAAABAAAEAAAAAAEAAAwAAAAAAQAABAAAAAABAAAQ\n",
       "AAAAAAIAAAQAAAAAAQAADAAAAAABAAAEAAAAAAEAABAAAAAAAgAABAAAAAABAAAMAAAAAAEAAAQA\n",
       "AAAAAQAACAAAAAABAAAMAAAAAAEAAAQAAAAAAQAAFAAAAAABAAAIAAAAAAEAAAAAAAAAAQAABAAA\n",
       "AAADAAAIAAAAAAEAAAwAAAAAAQAABAAAAAABAAAQAAAAAAIAAAQAAAAAAQAAFAAAAAABAAAIAAAA\n",
       "AAEAAAAAAAAAAQAABAAAAAABAAAIAAAAAAEAABAAAAAAAgAABAAAAAABAAAQAAAAAAIAAAQAAAAA\n",
       "AQAADAAAAAABAAAEAAAAAAEAABQAAAAAAQAACAAAAAABAAAAAAAAAAEAAAQAAAAAAQAAEAAAAAAC\n",
       "AAAEAAAAAAEAABAAAAAAAgAABAAAAAABAAAMAAAAAAEAAAQAAAAAAQAACAAAAAAcc3RzYwAAAAAA\n",
       "AAABAAAAAQAAAGUAAAABAAABqHN0c3oAAAAAAAAAAAAAAGUAABAjAAAByAAAAFQAAADUAAAAwQAA\n",
       "AGQAAADsAAAAZAAAALUAAADFAAAAswAAAREAAABOAAAA4QAAAGQAAADhAAABIAAAAFQAAABfAAAA\n",
       "vwAAAOUAAADXAAABFQAAAQoAAABNAAAA0QAAAR4AAAEVAAAAaAAAAF4AAADxAAAAWwAAASwAAABl\n",
       "AAAA1wAAAQwAAABWAAABDwAAAFwAAABaAAABLAAAAGYAAABXAAABFwAAAFoAAABVAAABAAAAAEgA\n",
       "AAEZAAAATgAAAOoAAABQAAAAQQAAAM4AAABIAAABKAAAAGQAAABTAAABDwAAAGYAAADPAAAAzgAA\n",
       "AFAAAAFKAAAAagAAAGUAAABbAAAAyAAAANEAAADNAAAA/AAAAEMAAAEPAAAAPwAAADYAAAEIAAAA\n",
       "WQAAADYAAABIAAAAwwAAANoAAABNAAAARwAAAR0AAABuAAAAYgAAAQcAAABIAAAA+gAAAHYAAABl\n",
       "AAAAXgAAALIAAABpAAAAUgAAAMYAAABNAAAAQQAAAJcAAAA8AAAAQwAAABRzdGNvAAAAAAAAAAEA\n",
       "AAAwAAAAYnVkdGEAAABabWV0YQAAAAAAAAAhaGRscgAAAAAAAAAAbWRpcmFwcGwAAAAAAAAAAAAA\n",
       "AAAtaWxzdAAAACWpdG9vAAAAHWRhdGEAAAABAAAAAExhdmY1OC43Ny4xMDA=\n",
       "\">\n",
       "  Your browser does not support the video tag.\n",
       "</video>"
      ],
      "text/plain": [
       "<matplotlib.animation.FuncAnimation at 0x278b454a820>"
      ]
     },
     "execution_count": 51,
     "metadata": {},
     "output_type": "execute_result"
    },
    {
     "data": {
      "text/plain": [
       "<Figure size 432x288 with 0 Axes>"
      ]
     },
     "metadata": {},
     "output_type": "display_data"
    }
   ],
   "source": [
    "vis.plot(vis.overlay(\n",
    "    PointCloud(Sphere(xs, radius=masses ** 0.333 / 5), bounds=Box(x=(-20, 20), y=(-20, 20))),\n",
    "    PointCloud(xs, vs * 2, bounds=Box(x=(-20, 20), y=(-20, 20)))), animate='time', frame_time=100)"
   ]
  }
 ],
 "metadata": {
  "kernelspec": {
   "display_name": "Python 3",
   "language": "python",
   "name": "python3"
  },
  "language_info": {
   "codemirror_mode": {
    "name": "ipython",
    "version": 3
   },
   "file_extension": ".py",
   "mimetype": "text/x-python",
   "name": "python",
   "nbconvert_exporter": "python",
   "pygments_lexer": "ipython3",
   "version": "3.8.5"
  }
 },
 "nbformat": 4,
 "nbformat_minor": 1
}